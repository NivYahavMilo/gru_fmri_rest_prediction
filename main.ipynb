{
 "cells": [
  {
   "cell_type": "code",
   "execution_count": null,
   "metadata": {
    "collapsed": true
   },
   "outputs": [],
   "source": [
    "# Introduction.\n",
    "#The analysis of functional Magnetic Resonance Imaging (fMRI) data has opened up new avenues for understanding the intricate spatial-temporal patterns of brain activity. In this project, we delve into the task of uncovering latent spatial-temporal patterns among different subjects while they engage in the process of movie-watching. By investigating the neural responses during both movie-watching clips and the resting periods interspersed between these clips, our aim is to learn and comprehend the underlying connections that shape these representations.\n",
    "\n",
    "# Significance: The significance of this project lies in its potential contributions to the field of neuroscience and cognitive research. The ability to decipher the neural patterns associated with movie-watching and resting states could offer insights into how the brain processes external stimuli and allocates resources during periods of engagement and relaxation. Furthermore, this knowledge could have applications in studying attention, emotion processing, and cognitive transitions in individuals with various neurological conditions. By revealing the neural dynamics underlying different mental states, our project has the potential to deepen our understanding of human cognition.\n",
    "\n",
    "# Relevant Prior Work: Research in the realm of fMRI data analysis and prediction has paved the way for our current project. Previous studies have successfully employed machine learning and deep learning techniques to decode brain activity patterns and predict cognitive states. Notable work includes the application of convolutional neural networks (CNNs) to fMRI data for classification tasks and the use of recurrent neural networks (RNNs) to capture temporal dependencies in brain dynamics. Additionally, investigations into the functional connectivity networks of the brain have provided insights into how different brain regions interact during specific tasks and resting states. These prior studies form the foundation upon which we build our exploration of neural patterns during movie-watching sequences and resting intervals.\n",
    "\n",
    "# In the following sections of this report, we will delve into the details of our dataset, methodology, experiments, and findings. By leveraging state-of-the-art deep learning techniques, we aim to shed light on the intricate interplay of neural activity during movie-watching and resting periods, ultimately contributing to our understanding of human brain function.\n",
    "\n"
   ]
  },
  {
   "cell_type": "code",
   "execution_count": null,
   "outputs": [],
   "source": [
    "# Dataset:\n",
    "#\n",
    "# Source and Description:\n",
    "# The dataset utilized for this project is derived from the Human Connectome Project (HCP) 4.1, a five-year initiative by the National Institute for Health (NIH) focused on understanding brain connectivity and cognitive functions. The project involved the creation of a database containing fMRI scans from healthy human subjects engaged in various tasks, including movie-watching and resting states.\n",
    "#\n",
    "# Data Characteristics:\n",
    "# The HCP dataset includes both resting-state fMRI (rfMRI) scans and task-based fMRI (tfMRI) scans. The tfMRI scans were conducted using a 7T magnet and consisted of sessions with rest periods and movie-watching segments.\n",
    "#\n",
    "# Resting State (rfMRI):\n",
    "#\n",
    "# rfMRI scans were collected in four runs, each lasting approximately 16 minutes.\n",
    "# Participants were instructed to keep their eyes open while focusing on a light cross projected on a dark background.\n",
    "# Task-Based fMRI (tfMRI):\n",
    "#\n",
    "# Each session comprised 2 movie-watching scans, with movies lasting around 15 minutes per scan.\n",
    "# Four separate sub-videos were presented in each scan, with 20-second rest periods between sub-videos.\n",
    "# Scanning Protocol:\n",
    "#\n",
    "# All T7 fMRI scans used a TR (time between pulses) of 1 second.\n",
    "# Slice thickness was 1.6 mm with a total of 85 slices per scan."
   ],
   "metadata": {
    "collapsed": false,
    "pycharm": {
     "name": "#%%\n"
    }
   }
  },
  {
   "cell_type": "code",
   "execution_count": null,
   "outputs": [],
   "source": [],
   "metadata": {
    "collapsed": false,
    "pycharm": {
     "name": "#%%\n"
    }
   }
  }
 ],
 "metadata": {
  "kernelspec": {
   "display_name": "Python 3",
   "language": "python",
   "name": "python3"
  },
  "language_info": {
   "codemirror_mode": {
    "name": "ipython",
    "version": 2
   },
   "file_extension": ".py",
   "mimetype": "text/x-python",
   "name": "python",
   "nbconvert_exporter": "python",
   "pygments_lexer": "ipython2",
   "version": "2.7.6"
  }
 },
 "nbformat": 4,
 "nbformat_minor": 0
}